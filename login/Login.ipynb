{
 "cells": [
  {
   "cell_type": "code",
   "execution_count": 1,
   "metadata": {},
   "outputs": [],
   "source": [
    "import datetime\n",
    "import configparser\n",
    "\n",
    "from kiteconnect import KiteTicker\n",
    "from kiteconnect import KiteConnect\n",
    "\n",
    "from selenium import webdriver\n",
    "from selenium.webdriver.common.by import By\n",
    "from selenium.webdriver.chrome.options import Options\n",
    "from selenium.webdriver.support.ui import WebDriverWait\n",
    "from selenium.webdriver.support import expected_conditions as EC\n",
    "\n",
    "import os.path\n",
    "from os import system\n",
    "\n",
    "import json\n",
    "import pyotp\n",
    "import requests\n",
    "import numpy as np\n",
    "import pandas as pd\n",
    "from time import sleep\n",
    "import urllib.parse as urlparse\n",
    "\n",
    "import telegram"
   ]
  },
  {
   "cell_type": "code",
   "execution_count": 3,
   "metadata": {},
   "outputs": [],
   "source": [
    "def login(user_id, method='standard'):\n",
    "    \"\"\"\n",
    "    login method can be jugaad or standard\n",
    "    \"\"\"\n",
    "    \n",
    "    #give path to credentials file here\n",
    "    credentials_file = pd.read_csv('credentials.csv')\n",
    "\n",
    "    method = credentials_file[credentials_file['user_id'] == user_id]['method'].iloc[0]\n",
    "\n",
    "    if method == 'standard':\n",
    "\n",
    "\n",
    "        api_key = credentials_file[credentials_file['user_id'] == user_id]['api_key'].iloc[0]\n",
    "        api_secret = credentials_file[credentials_file['user_id'] == user_id]['api_secret'].iloc[0]\n",
    "        account_username = credentials_file[credentials_file['user_id'] == user_id]['user_id'].iloc[0]\n",
    "        account_password = credentials_file[credentials_file['user_id'] == user_id]['password'].iloc[0]\n",
    "        totp = credentials_file[credentials_file['user_id'] == user_id]['totp'].iloc[0]\n",
    "        auth_key = pyotp.TOTP(totp)\n",
    "\n",
    "        kite = KiteConnect(api_key=api_key)\n",
    "\n",
    "        #check whether today's date is the same as the date saved in access token date in csv\n",
    "        #checking for 2 date formats as sometimes after opening csv, excel changes format\n",
    "        if ((credentials_file[credentials_file['user_id'] == user_id]['access_token_date'].iloc[0] == datetime.datetime.today().date().strftime('%d-%m-%Y')) | (credentials_file[credentials_file['user_id'] == user_id]['access_token_date'].iloc[0] == str(datetime.datetime.today().date()))):\n",
    "            access_token = credentials_file[credentials_file['user_id'] == user_id]['access_token'].iloc[0]\n",
    "            print(f'Access Token Generated Earlier Today for {user_id}')\n",
    "\n",
    "\n",
    "        else:\n",
    "            options = Options()\n",
    "            options.add_argument('--headless')\n",
    "            options.add_argument('--disable-gpu')\n",
    "            driver = webdriver.Chrome(executable_path='chromedriver.exe',options=options)\n",
    "            driver.get(kite.login_url())\n",
    "            sleep(2)\n",
    "            form = WebDriverWait(driver, 10).until(EC.visibility_of_element_located((By.XPATH, '//div[@class=\"login-form\"]')))\n",
    "            driver.find_element(\"xpath\",\"//input[@type='text']\").send_keys(account_username)\n",
    "            driver.find_element(\"xpath\",\"//input[@type='password']\").send_keys(account_password)\n",
    "\n",
    "            driver.find_element(\"xpath\",\"//span[@class='su-checkbox-box']\").click()\n",
    "            driver.find_element(\"xpath\",\"//button[@type='submit']\").click()\n",
    "            sleep(2)\n",
    "            form = WebDriverWait(driver, 10).until(EC.visibility_of_element_located((By.XPATH, '//div[@class=\"login-form\"]//form')))\n",
    "            driver.find_element(\"xpath\",\"//input[@type='text']\").send_keys(auth_key.now())\n",
    "            driver.find_element(\"xpath\",\"//button[@type='submit']\").click()\n",
    "            sleep(2)\n",
    "\n",
    "            current_url = driver.current_url\n",
    "            driver.close()\n",
    "\n",
    "            parsed = urlparse.urlparse(current_url)\n",
    "            request_token = urlparse.parse_qs(parsed.query)['request_token'][0]\n",
    "            access_token = kite.generate_session(request_token=request_token,api_secret=api_secret)['access_token']\n",
    "\n",
    "            #Writing access token, date and object to credentials file\n",
    "            credentials_file.loc[credentials_file['user_id'] == user_id,'access_token_date'] = str(datetime.datetime.today().date())\n",
    "            credentials_file.loc[credentials_file['user_id'] == user_id,'access_token'] = access_token\n",
    "            credentials_file.loc[credentials_file['user_id'] == user_id,'object'] = kite\n",
    "\n",
    "            #save the config file\n",
    "            try:\n",
    "                credentials_file.to_csv(\"credentials.csv\",index=False)\n",
    "                print(\"Saved credentials csv for\",user_id)\n",
    "            except:\n",
    "                print(f\"Error while saving {user_id} access token to csv. Maybe the credentials csv file is open.\")\n",
    "                \n",
    "\n",
    "                \n",
    "        login_success_counter = 0 #to track whether account got logged in or not\n",
    "        \n",
    "        try:\n",
    "            kite.set_access_token(access_token)\n",
    "            kite_login_message = str(f\"Login success for ID: {kite.profile()['user_id']}\")\n",
    "            print(kite_login_message)\n",
    "            login_success_counter = \"Yes\"\n",
    "        except:\n",
    "            kite_login_message = str(f\"ERROR logging into ID: {kite.profile()['user_id']}\")\n",
    "            print(kite_login_message)\n",
    "            login_success_counter = \"No\"\n",
    "            \n",
    "    elif method == 'jugaad':\n",
    "        pass\n",
    "    \n",
    "    return kite,kite_login_message,login_success_counter"
   ]
  },
  {
   "cell_type": "code",
   "execution_count": 4,
   "metadata": {},
   "outputs": [],
   "source": [
    "credentials = pd.read_csv(\"credentials.csv\")"
   ]
  },
  {
   "cell_type": "code",
   "execution_count": 5,
   "metadata": {},
   "outputs": [
    {
     "data": {
      "text/html": [
       "<div>\n",
       "<style scoped>\n",
       "    .dataframe tbody tr th:only-of-type {\n",
       "        vertical-align: middle;\n",
       "    }\n",
       "\n",
       "    .dataframe tbody tr th {\n",
       "        vertical-align: top;\n",
       "    }\n",
       "\n",
       "    .dataframe thead th {\n",
       "        text-align: right;\n",
       "    }\n",
       "</style>\n",
       "<table border=\"1\" class=\"dataframe\">\n",
       "  <thead>\n",
       "    <tr style=\"text-align: right;\">\n",
       "      <th></th>\n",
       "      <th>user_id</th>\n",
       "      <th>password</th>\n",
       "      <th>method</th>\n",
       "      <th>api_key</th>\n",
       "      <th>api_secret</th>\n",
       "      <th>totp</th>\n",
       "      <th>access_token_date</th>\n",
       "      <th>access_token</th>\n",
       "      <th>object</th>\n",
       "    </tr>\n",
       "  </thead>\n",
       "  <tbody>\n",
       "    <tr>\n",
       "      <th>0</th>\n",
       "      <td>VR2386</td>\n",
       "      <td>Maini!@345</td>\n",
       "      <td>standard</td>\n",
       "      <td>nnd1q4dbjvhyxqc3</td>\n",
       "      <td>vrrqogov68e24waj9w6hsby0f8ivj8mc</td>\n",
       "      <td>VLPPKCKD2KW44KJXLEM5KMREVWJTQX6S</td>\n",
       "      <td>2023-03-16</td>\n",
       "      <td>nDeOTIheCQhI71pnk7fqMBtC51cuOhk3</td>\n",
       "      <td>&lt;kiteconnect.connect.KiteConnect object at 0x0...</td>\n",
       "    </tr>\n",
       "    <tr>\n",
       "      <th>1</th>\n",
       "      <td>AJ1440</td>\n",
       "      <td>Target1cr</td>\n",
       "      <td>standard</td>\n",
       "      <td>9hduta0up86dg9yk</td>\n",
       "      <td>x3o8wdc59a0ccmmy3lvh496bhhr9avz3</td>\n",
       "      <td>UOYQB432M6JBJDFB66TO2C7TWUFYLHS4</td>\n",
       "      <td>2023-03-16</td>\n",
       "      <td>PdTnEeEZWutE6v9BkMzt454uQEaCK1yg</td>\n",
       "      <td>&lt;kiteconnect.connect.KiteConnect object at 0x0...</td>\n",
       "    </tr>\n",
       "  </tbody>\n",
       "</table>\n",
       "</div>"
      ],
      "text/plain": [
       "  user_id    password    method           api_key  \\\n",
       "0  VR2386  Maini!@345  standard  nnd1q4dbjvhyxqc3   \n",
       "1  AJ1440   Target1cr  standard  9hduta0up86dg9yk   \n",
       "\n",
       "                         api_secret                              totp  \\\n",
       "0  vrrqogov68e24waj9w6hsby0f8ivj8mc  VLPPKCKD2KW44KJXLEM5KMREVWJTQX6S   \n",
       "1  x3o8wdc59a0ccmmy3lvh496bhhr9avz3  UOYQB432M6JBJDFB66TO2C7TWUFYLHS4   \n",
       "\n",
       "  access_token_date                      access_token  \\\n",
       "0        2023-03-16  nDeOTIheCQhI71pnk7fqMBtC51cuOhk3   \n",
       "1        2023-03-16  PdTnEeEZWutE6v9BkMzt454uQEaCK1yg   \n",
       "\n",
       "                                              object  \n",
       "0  <kiteconnect.connect.KiteConnect object at 0x0...  \n",
       "1  <kiteconnect.connect.KiteConnect object at 0x0...  "
      ]
     },
     "execution_count": 5,
     "metadata": {},
     "output_type": "execute_result"
    }
   ],
   "source": [
    "credentials"
   ]
  },
  {
   "cell_type": "code",
   "execution_count": 6,
   "metadata": {},
   "outputs": [],
   "source": [
    "accounts = credentials['user_id'].to_list()"
   ]
  },
  {
   "cell_type": "code",
   "execution_count": 7,
   "metadata": {},
   "outputs": [
    {
     "name": "stderr",
     "output_type": "stream",
     "text": [
      "C:\\Users\\ARJUNT~1\\AppData\\Local\\Temp/ipykernel_11808/1869299642.py:34: DeprecationWarning: executable_path has been deprecated, please pass in a Service object\n",
      "  driver = webdriver.Chrome(executable_path='chromedriver.exe',options=options)\n"
     ]
    },
    {
     "name": "stdout",
     "output_type": "stream",
     "text": [
      "Saved credentials csv for VR2386\n",
      "Login success for ID: VR2386\n"
     ]
    },
    {
     "name": "stderr",
     "output_type": "stream",
     "text": [
      "C:\\Users\\ARJUNT~1\\AppData\\Local\\Temp/ipykernel_11808/1869299642.py:34: DeprecationWarning: executable_path has been deprecated, please pass in a Service object\n",
      "  driver = webdriver.Chrome(executable_path='chromedriver.exe',options=options)\n"
     ]
    },
    {
     "name": "stdout",
     "output_type": "stream",
     "text": [
      "Saved credentials csv for AJ1440\n",
      "Login success for ID: AJ1440\n"
     ]
    }
   ],
   "source": [
    "for user_id in accounts:\n",
    "    if user_id is np.nan:\n",
    "        continue\n",
    "    try:\n",
    "        account_login = login(user_id)\n",
    "\n",
    "    except:\n",
    "        print(\"Error logging into: \",user_id)\n"
   ]
  },
  {
   "cell_type": "code",
   "execution_count": 8,
   "metadata": {},
   "outputs": [],
   "source": [
    "credentials = pd.read_csv(\"credentials.csv\")"
   ]
  },
  {
   "cell_type": "code",
   "execution_count": 9,
   "metadata": {},
   "outputs": [
    {
     "data": {
      "text/html": [
       "<div>\n",
       "<style scoped>\n",
       "    .dataframe tbody tr th:only-of-type {\n",
       "        vertical-align: middle;\n",
       "    }\n",
       "\n",
       "    .dataframe tbody tr th {\n",
       "        vertical-align: top;\n",
       "    }\n",
       "\n",
       "    .dataframe thead th {\n",
       "        text-align: right;\n",
       "    }\n",
       "</style>\n",
       "<table border=\"1\" class=\"dataframe\">\n",
       "  <thead>\n",
       "    <tr style=\"text-align: right;\">\n",
       "      <th></th>\n",
       "      <th>user_id</th>\n",
       "      <th>password</th>\n",
       "      <th>method</th>\n",
       "      <th>api_key</th>\n",
       "      <th>api_secret</th>\n",
       "      <th>totp</th>\n",
       "      <th>access_token_date</th>\n",
       "      <th>access_token</th>\n",
       "      <th>object</th>\n",
       "    </tr>\n",
       "  </thead>\n",
       "  <tbody>\n",
       "    <tr>\n",
       "      <th>0</th>\n",
       "      <td>VR2386</td>\n",
       "      <td>Maini!@345</td>\n",
       "      <td>standard</td>\n",
       "      <td>nnd1q4dbjvhyxqc3</td>\n",
       "      <td>vrrqogov68e24waj9w6hsby0f8ivj8mc</td>\n",
       "      <td>VLPPKCKD2KW44KJXLEM5KMREVWJTQX6S</td>\n",
       "      <td>2023-03-20</td>\n",
       "      <td>ASjSow6by68zbcMqyl7PrODpJbykdIsI</td>\n",
       "      <td>&lt;kiteconnect.connect.KiteConnect object at 0x0...</td>\n",
       "    </tr>\n",
       "    <tr>\n",
       "      <th>1</th>\n",
       "      <td>AJ1440</td>\n",
       "      <td>Target1cr</td>\n",
       "      <td>standard</td>\n",
       "      <td>9hduta0up86dg9yk</td>\n",
       "      <td>x3o8wdc59a0ccmmy3lvh496bhhr9avz3</td>\n",
       "      <td>UOYQB432M6JBJDFB66TO2C7TWUFYLHS4</td>\n",
       "      <td>2023-03-20</td>\n",
       "      <td>GAV2unIHqeDgsnlY7L2ZL80YoC1mlL7l</td>\n",
       "      <td>&lt;kiteconnect.connect.KiteConnect object at 0x0...</td>\n",
       "    </tr>\n",
       "  </tbody>\n",
       "</table>\n",
       "</div>"
      ],
      "text/plain": [
       "  user_id    password    method           api_key  \\\n",
       "0  VR2386  Maini!@345  standard  nnd1q4dbjvhyxqc3   \n",
       "1  AJ1440   Target1cr  standard  9hduta0up86dg9yk   \n",
       "\n",
       "                         api_secret                              totp  \\\n",
       "0  vrrqogov68e24waj9w6hsby0f8ivj8mc  VLPPKCKD2KW44KJXLEM5KMREVWJTQX6S   \n",
       "1  x3o8wdc59a0ccmmy3lvh496bhhr9avz3  UOYQB432M6JBJDFB66TO2C7TWUFYLHS4   \n",
       "\n",
       "  access_token_date                      access_token  \\\n",
       "0        2023-03-20  ASjSow6by68zbcMqyl7PrODpJbykdIsI   \n",
       "1        2023-03-20  GAV2unIHqeDgsnlY7L2ZL80YoC1mlL7l   \n",
       "\n",
       "                                              object  \n",
       "0  <kiteconnect.connect.KiteConnect object at 0x0...  \n",
       "1  <kiteconnect.connect.KiteConnect object at 0x0...  "
      ]
     },
     "execution_count": 9,
     "metadata": {},
     "output_type": "execute_result"
    }
   ],
   "source": [
    "credentials"
   ]
  },
  {
   "cell_type": "code",
   "execution_count": 10,
   "metadata": {},
   "outputs": [
    {
     "name": "stdout",
     "output_type": "stream",
     "text": [
      "Access Token Generated Earlier Today for VR2386\n",
      "Login success for ID: VR2386\n",
      "success\n",
      "Access Token Generated Earlier Today for AJ1440\n",
      "Login success for ID: AJ1440\n",
      "success\n"
     ]
    }
   ],
   "source": [
    "def login_all():\n",
    "    #login process has already been done when initialising Raptor, but this process check login status once again\n",
    "    #iterate over the accounts in the accounts dictionary and login each one of them, in case not already done\n",
    "    #in case unable to login, print an error message and also send to the group\n",
    "    \n",
    "    for user_id in credentials['user_id'].to_list():\n",
    "        try:\n",
    "            credentials.loc[credentials['user_id'] == user_id,'object'] = login(user_id,credentials[credentials['user_id'] == user_id]['method'].iloc[0])[0]\n",
    "            print('success')\n",
    "        except:\n",
    "            print(\"Could not login to\",user_id)\n",
    "\n",
    "login_all()"
   ]
  },
  {
   "cell_type": "code",
   "execution_count": 12,
   "metadata": {},
   "outputs": [
    {
     "data": {
      "text/plain": [
       "<kiteconnect.connect.KiteConnect at 0x13cda6aa7c0>"
      ]
     },
     "execution_count": 12,
     "metadata": {},
     "output_type": "execute_result"
    }
   ],
   "source": [
    "credentials['object'].iloc[0]"
   ]
  },
  {
   "cell_type": "code",
   "execution_count": 83,
   "metadata": {},
   "outputs": [
    {
     "data": {
      "text/plain": [
       "{'equity': {'enabled': True,\n",
       "  'net': 7507612.191,\n",
       "  'available': {'adhoc_margin': 0,\n",
       "   'cash': 3024457.6,\n",
       "   'opening_balance': 3024457.6,\n",
       "   'live_balance': 2872378.85,\n",
       "   'collateral': 5436342,\n",
       "   'intraday_payin': 0},\n",
       "  'utilised': {'debits': 953187.409,\n",
       "   'exposure': 122848.739,\n",
       "   'm2m_realised': 0,\n",
       "   'm2m_unrealised': 0,\n",
       "   'option_premium': -36299.375,\n",
       "   'payout': 0,\n",
       "   'span': 678259.92,\n",
       "   'holding_sales': 0,\n",
       "   'turnover': 0,\n",
       "   'liquid_collateral': 959846.8,\n",
       "   'stock_collateral': 4476495.2,\n",
       "   'equity': 0,\n",
       "   'delivery': 0}},\n",
       " 'commodity': {'enabled': False,\n",
       "  'net': 0,\n",
       "  'available': {'adhoc_margin': 0,\n",
       "   'cash': 0,\n",
       "   'opening_balance': 0,\n",
       "   'live_balance': 0,\n",
       "   'collateral': 0,\n",
       "   'intraday_payin': 0},\n",
       "  'utilised': {'debits': 0,\n",
       "   'exposure': 0,\n",
       "   'm2m_realised': 0,\n",
       "   'm2m_unrealised': 0,\n",
       "   'option_premium': 0,\n",
       "   'payout': 0,\n",
       "   'span': 0,\n",
       "   'holding_sales': 0,\n",
       "   'turnover': 0,\n",
       "   'liquid_collateral': 0,\n",
       "   'stock_collateral': 0,\n",
       "   'equity': 0,\n",
       "   'delivery': 0}}}"
      ]
     },
     "execution_count": 83,
     "metadata": {},
     "output_type": "execute_result"
    }
   ],
   "source": [
    "kite.margins()"
   ]
  },
  {
   "cell_type": "code",
   "execution_count": null,
   "metadata": {},
   "outputs": [],
   "source": []
  }
 ],
 "metadata": {
  "kernelspec": {
   "display_name": "Python 3",
   "language": "python",
   "name": "python3"
  },
  "language_info": {
   "codemirror_mode": {
    "name": "ipython",
    "version": 3
   },
   "file_extension": ".py",
   "mimetype": "text/x-python",
   "name": "python",
   "nbconvert_exporter": "python",
   "pygments_lexer": "ipython3",
   "version": "3.9.7"
  },
  "orig_nbformat": 4
 },
 "nbformat": 4,
 "nbformat_minor": 2
}
